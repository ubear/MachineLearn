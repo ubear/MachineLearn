{
 "cells": [
  {
   "cell_type": "code",
   "execution_count": 2,
   "metadata": {
    "collapsed": false
   },
   "outputs": [],
   "source": [
    "from decision_tree import *\n",
    "from data import my_data\n",
    "\n",
    "tree = build_tree(my_data)\n"
   ]
  },
  {
   "cell_type": "code",
   "execution_count": 3,
   "metadata": {
    "collapsed": false
   },
   "outputs": [
    {
     "name": "stdout",
     "output_type": "stream",
     "text": [
      "3:21? \n",
      "T-> 0:google? \n",
      "  T-> {'Premium': 3}\n",
      "  F-> {'Basic': 3}\n",
      "F-> 2:yes? \n",
      "  T-> 0:slashdot? \n",
      "    T-> {'None': 2}\n",
      "    F-> {'Basic': 3}\n",
      "  F-> {'None': 4}\n"
     ]
    }
   ],
   "source": [
    "def print_tree(tree, indent=''):\n",
    "    if tree.results != None:\n",
    "        print str(tree.results)\n",
    "    else:\n",
    "        print str(tree.col) + ':' + str(tree.value) +'? '\n",
    "        print indent + 'T->',\n",
    "        print_tree(tree.tb, indent + \"  \")\n",
    "        print indent + 'F->',\n",
    "        print_tree(tree.fb, indent + \"  \")\n",
    "\n",
    "print_tree(tree)"
   ]
  }
 ],
 "metadata": {
  "kernelspec": {
   "display_name": "Python 2",
   "language": "python",
   "name": "python2"
  },
  "language_info": {
   "codemirror_mode": {
    "name": "ipython",
    "version": 2
   },
   "file_extension": ".py",
   "mimetype": "text/x-python",
   "name": "python",
   "nbconvert_exporter": "python",
   "pygments_lexer": "ipython2",
   "version": "2.7.6"
  }
 },
 "nbformat": 4,
 "nbformat_minor": 0
}
