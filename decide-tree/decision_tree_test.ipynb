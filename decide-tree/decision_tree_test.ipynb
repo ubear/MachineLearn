{
 "cells": [
  {
   "cell_type": "code",
   "execution_count": 1,
   "metadata": {
    "collapsed": false
   },
   "outputs": [],
   "source": [
    "from decision_tree import *\n",
    "from data import my_data\n",
    "\n",
    "tree = build_tree(my_data)\n"
   ]
  },
  {
   "cell_type": "code",
   "execution_count": 4,
   "metadata": {
    "collapsed": false
   },
   "outputs": [
    {
     "name": "stdout",
     "output_type": "stream",
     "text": [
      "3:21? \n",
      "T-> 0:google? \n",
      "  T-> {'Premium': 3}\n",
      "  F-> {'Basic': 3}\n",
      "F-> 2:yes? \n",
      "  T-> 0:slashdot? \n",
      "    T-> {'None': 2}\n",
      "    F-> {'Basic': 3}\n",
      "  F-> {'None': 4}\n"
     ]
    }
   ],
   "source": [
    "def print_tree(tree, indent=''):\n",
    "    if tree.results != None:\n",
    "        print str(tree.results)\n",
    "    else:\n",
    "        print str(tree.col) + ':' + str(tree.value) +'? '\n",
    "        print indent + 'T->',\n",
    "        print_tree(tree.tb, indent + \"  \")\n",
    "        print indent + 'F->',\n",
    "        print_tree(tree.fb, indent + \"  \")\n",
    "\n",
    "print_tree(tree)"
   ]
  },
  {
   "cell_type": "code",
   "execution_count": null,
   "metadata": {
    "collapsed": true
   },
   "outputs": [],
   "source": [
    "# 处理数值型的结果\n",
    "def variance(rows):\n",
    "    if len(rows) == 0:\n",
    "        return 0\n",
    "    data = [float(row[-1]) for row in rows]\n",
    "    mean = sum(data) / len(data)\n",
    "    variance = sum([(d - mean) ** 2 for d in data]) / len(data)\n",
    "    return variance"
   ]
  }
 ],
 "metadata": {
  "kernelspec": {
   "display_name": "Python 2",
   "language": "python",
   "name": "python2"
  },
  "language_info": {
   "codemirror_mode": {
    "name": "ipython",
    "version": 2
   },
   "file_extension": ".py",
   "mimetype": "text/x-python",
   "name": "python",
   "nbconvert_exporter": "python",
   "pygments_lexer": "ipython2",
   "version": "2.7.6"
  }
 },
 "nbformat": 4,
 "nbformat_minor": 0
}
